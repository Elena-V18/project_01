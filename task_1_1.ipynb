{
  "nbformat": 4,
  "nbformat_minor": 0,
  "metadata": {
    "colab": {
      "provenance": []
    },
    "kernelspec": {
      "name": "python3",
      "display_name": "Python 3"
    },
    "language_info": {
      "name": "python"
    }
  },
  "cells": [
    {
      "cell_type": "code",
      "execution_count": 12,
      "metadata": {
        "colab": {
          "base_uri": "https://localhost:8080/"
        },
        "id": "DHfO03aRxCJn",
        "outputId": "af0687fa-c0b5-42e2-c2ca-63797f21b097"
      },
      "outputs": [
        {
          "output_type": "stream",
          "name": "stdout",
          "text": [
            "Упусти момент\n",
            "новое спасение\n",
            "останься в живых\n",
            "заведи меня\n"
          ]
        }
      ],
      "source": [
        "my_favorit_song = 'Упусти момент, останься в живых, своего рода сказка, заведи меня, новое спасение'\n",
        "print(my_favorit_song [:13])\n",
        "print(my_favorit_song [66:])\n",
        "print(my_favorit_song [15:31])\n",
        "print(my_favorit_song [53:-16])"
      ]
    }
  ]
}